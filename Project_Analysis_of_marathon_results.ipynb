{
 "cells": [
  {
   "cell_type": "markdown",
   "metadata": {},
   "source": [
    "# Introduction"
   ]
  },
  {
   "cell_type": "markdown",
   "metadata": {},
   "source": [
    "\"Kernel density estimation is a really useful statistical tool with an intimidating name. Often shortened to KDE, it’s a technique that let’s you create a smooth curve given a set of data.\"\n",
    "\n",
    "*Kernel Density Estimation* By: Matthew Conlen \n"
   ]
  },
  {
   "cell_type": "markdown",
   "metadata": {},
   "source": [
    "  Bayes' theorem is a theorem about the conditional probability of random events A and B. Usually, the probability of event A under the condition of event B (occurrence) is not the same as the probability of event B under the condition of event A. However, there is a definite relationship between the two, and the Bayesian formula is a statement of this relationship: $$P\\left(A|B\\right)=\\frac{P\\left(B|A\\right)\\cdot P\\left(A\\right)}{P\\left(B\\right)}$$"
   ]
  },
  {
   "cell_type": "markdown",
   "metadata": {},
   "source": [
    "where P(A|B) is the probability that A occurs if B occurs."
   ]
  },
  {
   "cell_type": "markdown",
   "metadata": {},
   "source": [
    "## Part 1"
   ]
  },
  {
   "cell_type": "markdown",
   "metadata": {},
   "source": [
    "The purpose of this part is to predict the probability of a runner being a female at a given time by using one-dimensional KDE of male and female runners together with Bayes' theorem, and to examine the accuracy of these predictions."
   ]
  },
  {
   "cell_type": "code",
   "execution_count": 952,
   "metadata": {},
   "outputs": [],
   "source": [
    "import pandas as pd\n",
    "# Pandas is a Python library for working with tabular data. The main objects it provides are Series and DataFrame.\n",
    "\n",
    "from datetime import datetime\n",
    "# The datetime module supplies classes for manipulating dates and times.\n",
    "\n",
    "import seaborn as sns\n",
    "# Seaborn is Python library for visualizing data. Seaborn uses matplotlib to create graphics"
   ]
  },
  {
   "cell_type": "code",
   "execution_count": null,
   "metadata": {},
   "outputs": [],
   "source": []
  },
  {
   "cell_type": "code",
   "execution_count": 954,
   "metadata": {},
   "outputs": [],
   "source": [
    "df = pd.read_csv(\"marathon_results.csv\")\n",
    "df['tot_minutes'] = pd.to_timedelta(df['Finish']).dt.total_seconds()/60\n",
    "# Total finish time in minutes and add them in dataframe.\n",
    "\n",
    "df['5K_minutes'] = pd.to_timedelta(df['5K']).dt.total_seconds()/60\n",
    "# Total 5K time in minutes and add them in dataframe."
   ]
  },
  {
   "cell_type": "code",
   "execution_count": 956,
   "metadata": {},
   "outputs": [],
   "source": [
    "from scipy.stats import gaussian_kde\n",
    "# Tools for computing KDE.\n",
    "\n",
    "import numpy as np\n",
    "# Numpy is a standard module for doing numerical computations in Python.\n",
    "\n",
    "import matplotlib.pyplot as plt\n",
    "# Plotly is a library for creating interactive plots."
   ]
  },
  {
   "cell_type": "code",
   "execution_count": 847,
   "metadata": {},
   "outputs": [],
   "source": [
    "dfm = df[df[\"M/F\"] == 'M']\n",
    "dff = df[df[\"M/F\"] == 'F']"
   ]
  },
  {
   "cell_type": "markdown",
   "metadata": {},
   "source": [
    "Get two DataFrames containing all rows containing \"Male\" and \"Female\" in column \"M/F\"."
   ]
  },
  {
   "cell_type": "code",
   "execution_count": 848,
   "metadata": {},
   "outputs": [],
   "source": [
    "kdem = gaussian_kde(dfm['tot_minutes'])\n",
    "kdef = gaussian_kde(dff['tot_minutes'])"
   ]
  },
  {
   "cell_type": "markdown",
   "metadata": {},
   "source": [
    "Generate two kernel density estimation functions from data for male and female."
   ]
  },
  {
   "cell_type": "code",
   "execution_count": 958,
   "metadata": {},
   "outputs": [
    {
     "data": {
      "image/png": "[encoded data removed]",
      "text/plain": [
       "<Figure size 720x360 with 1 Axes>"
      ]
     },
     "metadata": {
      "needs_background": "light"
     },
     "output_type": "display_data"
    }
   ],
   "source": [
    "plt.figure(figsize=(10, 5))\n",
    "x = np.linspace(120, 500, 400)\n",
    "plt.plot(x, kdem(x), label='M')\n",
    "plt.plot(x, kdef(x), label='F')\n",
    "plt.legend()\n",
    "plt.show()"
   ]
  },
  {
   "cell_type": "markdown",
   "metadata": {},
   "source": [
    "This plot shows one-dimensional kernel density estimates for male and female runners based on finish time."
   ]
  },
  {
   "cell_type": "code",
   "execution_count": 957,
   "metadata": {},
   "outputs": [],
   "source": [
    "from sklearn.model_selection import train_test_split\n",
    "train_df, test_df = train_test_split(df, test_size=0.5)"
   ]
  },
  {
   "cell_type": "markdown",
   "metadata": {},
   "source": [
    "Divide the data into training data and test data so that we can check the accuracy later"
   ]
  },
  {
   "cell_type": "code",
   "execution_count": 858,
   "metadata": {},
   "outputs": [],
   "source": [
    "dfm1 = train_df[train_df[\"M/F\"] == 'M']\n",
    "dff1 = train_df[train_df[\"M/F\"] == 'F']"
   ]
  },
  {
   "cell_type": "markdown",
   "metadata": {},
   "source": [
    "Get two DataFrames containing all rows in the training data that contain \"Male\" and \"Female\" in the \"M/F\" column."
   ]
  },
  {
   "cell_type": "code",
   "execution_count": 860,
   "metadata": {},
   "outputs": [],
   "source": [
    "kde1 = gaussian_kde(train_df['tot_minutes'])\n",
    "kdem1 = gaussian_kde(dfm1['tot_minutes'])\n",
    "kdef1 = gaussian_kde(dff1['tot_minutes'])"
   ]
  },
  {
   "cell_type": "markdown",
   "metadata": {},
   "source": [
    "Generate three kernel density estimation function from training data for training data, male data and female data."
   ]
  },
  {
   "cell_type": "code",
   "execution_count": 863,
   "metadata": {},
   "outputs": [],
   "source": [
    "def Bayes(time):\n",
    "    numm = len(dfm1)\n",
    "    numf = len(dff1)\n",
    "    P_time = kdem1(time) + kdef1(time)\n",
    "    Pf = (kdef1(time)) / P_time\n",
    "    return Pf"
   ]
  },
  {
   "cell_type": "markdown",
   "metadata": {},
   "source": [
    "The function *Bayes* is to use KDE and Bayes theorem to calculate the probability that the runner at a given time is female."
   ]
  },
  {
   "cell_type": "code",
   "execution_count": 959,
   "metadata": {},
   "outputs": [],
   "source": [
    "probability_list=[]\n",
    "for i in range(len(test_df)):\n",
    "    probability_list.append(Bayes(test_df[\"tot_minutes\"].iloc[i]))"
   ]
  },
  {
   "cell_type": "markdown",
   "metadata": {},
   "source": [
    "This is using test_data for testing and *probability_list* contains the probabilities of all predictions in the test data."
   ]
  },
  {
   "cell_type": "code",
   "execution_count": 963,
   "metadata": {},
   "outputs": [],
   "source": [
    "predict_list = []\n",
    "for i in range(len(test_df)):\n",
    "    if probability_list[i] > 0.5:\n",
    "        predict_list.append(\"F\")\n",
    "    else:\n",
    "        predict_list.append(\"M\")"
   ]
  },
  {
   "cell_type": "markdown",
   "metadata": {},
   "source": [
    "Predict whether a runner is male/female based on predicted probabilities and *predict_list* contains all predicted results"
   ]
  },
  {
   "cell_type": "code",
   "execution_count": 965,
   "metadata": {},
   "outputs": [
    {
     "data": {
      "text/plain": [
       "0.6538900296600502"
      ]
     },
     "execution_count": 965,
     "metadata": {},
     "output_type": "execute_result"
    }
   ],
   "source": [
    "(predict_list == test_df['M/F']).sum()/len(test_df)\n",
    "# Check accuracy of these predictions."
   ]
  },
  {
   "cell_type": "markdown",
   "metadata": {},
   "source": [
    "The accuracy of using one-dimensional Kernel Density Estimation (KDE) based on finsh time and Bayes theorem to predict gender is approximately 65%"
   ]
  },
  {
   "cell_type": "markdown",
   "metadata": {},
   "source": [
    "## Part 2"
   ]
  },
  {
   "cell_type": "markdown",
   "metadata": {},
   "source": [
    "This part will use 2-dimensional KDEs computed using finish times and ages of runners, and use it together with the Bayes theorem to compute the probability that a runner with a given time was a female."
   ]
  },
  {
   "cell_type": "code",
   "execution_count": 966,
   "metadata": {},
   "outputs": [],
   "source": [
    "bw_method = 0.2  # Set bandwidth = 0.2\n",
    "kdem2 = gaussian_kde(dfm1[[\"tot_minutes\", \"Age\"]].T, bw_method=bw_method)\n",
    "kdef2 = gaussian_kde(dff1[[\"tot_minutes\", \"Age\"]].T, bw_method=bw_method)"
   ]
  },
  {
   "cell_type": "markdown",
   "metadata": {},
   "source": [
    "Generate two kernel density estimation functions based on \"tot_minutes\" and \"Age\" from training_data for male and female."
   ]
  },
  {
   "cell_type": "code",
   "execution_count": 967,
   "metadata": {
    "scrolled": true
   },
   "outputs": [
    {
     "data": {
      "text/plain": [
       "<matplotlib.contour.QuadContourSet at 0x7fdd6bdc18e0>"
      ]
     },
     "execution_count": 967,
     "metadata": {},
     "output_type": "execute_result"
    },
    {
     "data": {
      "image/png": "[encoded data removed]",
      "text/plain": [
       "<Figure size 720x1152 with 2 Axes>"
      ]
     },
     "metadata": {
      "needs_background": "light"
     },
     "output_type": "display_data"
    }
   ],
   "source": [
    "x = np.linspace(120, 360, 100)\n",
    "y = np.linspace(10, 70, 100)\n",
    "\n",
    "X, Y = np.meshgrid(x, y)\n",
    "Z = kdem2([X.reshape(-1), Y.reshape(-1)]).reshape(X.shape)\n",
    "Z2 = kdef2([X.reshape(-1), Y.reshape(-1)]).reshape(X.shape)\n",
    "\n",
    "fig=plt.figure(num=1,figsize=(10,16))\n",
    "ax1=fig.add_subplot(211)\n",
    "ax1.set_title(\"Male\",fontsize=18)\n",
    "ax1.contourf(X, Y, Z, levels=10, cmap='Reds')\n",
    "ax1.contour(X, Y, Z, levels=10, colors='k')\n",
    "\n",
    "\n",
    "ax2=fig.add_subplot(212)\n",
    "ax2.set_title(\"Female\",fontsize=18)\n",
    "ax2.contourf(X, Y, Z2, levels=10, cmap='Reds')\n",
    "ax2.contour(X, Y, Z2, levels=10, colors='k')\n",
    "\n"
   ]
  },
  {
   "cell_type": "markdown",
   "metadata": {},
   "source": [
    "The plot above shows a 2-dimensional KDE of male, which based on finish times and ages of runners.\n",
    "\n",
    "The plot above shows a 2-dimensional KDE of female, which based on finish times and ages of runners."
   ]
  },
  {
   "cell_type": "code",
   "execution_count": null,
   "metadata": {},
   "outputs": [],
   "source": [
    "def Bayes2(time,age):\n",
    "    numm = len(dfm1)\n",
    "    numf = len(dff1)\n",
    "    P_time = kdem2([time,age]) + kdef2([time,age])\n",
    "    Pf = (kdef2([time,age])) / P_time\n",
    "    return Pf"
   ]
  },
  {
   "cell_type": "markdown",
   "metadata": {},
   "source": [
    "The function *Bayes2* is to use 2-dimensional KDE and Bayes theorem to calculate the probability that the runner at a given time is female."
   ]
  },
  {
   "cell_type": "code",
   "execution_count": 972,
   "metadata": {},
   "outputs": [],
   "source": [
    "probability_list2 = []\n",
    "for i in range(len(test_df)):\n",
    "    probability_list2.append(Bayes2(test_df[\"tot_minutes\"].iloc[i],test_df[\"Age\"].iloc[i]))"
   ]
  },
  {
   "cell_type": "markdown",
   "metadata": {},
   "source": [
    "This is using test_data for testing and *probability_list* contains the probabilities of all predictions in the test data."
   ]
  },
  {
   "cell_type": "code",
   "execution_count": 973,
   "metadata": {},
   "outputs": [],
   "source": [
    "predict_list2 = []\n",
    "for i in range(len(test_df)):\n",
    "    if probability_list2[i] > 0.5:\n",
    "        predict_list2.append(\"F\")\n",
    "    else:\n",
    "        predict_list2.append(\"M\")"
   ]
  },
  {
   "cell_type": "markdown",
   "metadata": {},
   "source": [
    "Predict whether a runner is male/female based on predicted probabilities and *predict_list* contains all predicted results"
   ]
  },
  {
   "cell_type": "code",
   "execution_count": 974,
   "metadata": {},
   "outputs": [
    {
     "data": {
      "text/plain": [
       "0.7602099018936801"
      ]
     },
     "execution_count": 974,
     "metadata": {},
     "output_type": "execute_result"
    }
   ],
   "source": [
    "(predict_list2 == test_df['M/F']).sum()/len(test_df)\n",
    "# Check accuracy of these predictions."
   ]
  },
  {
   "cell_type": "markdown",
   "metadata": {},
   "source": [
    "The accuracy of using 2-dimensional KDE based on finsh time and age and Bayes theorem to predict gender is approximately 76%, which is more accurate than the method in the part 1."
   ]
  },
  {
   "cell_type": "markdown",
   "metadata": {},
   "source": [
    "## Part 3"
   ]
  },
  {
   "cell_type": "markdown",
   "metadata": {},
   "source": [
    "This part will use k-NN to make predictions for gender and compare the accuracy of the predictions obtained in part 1 and part 2."
   ]
  },
  {
   "cell_type": "code",
   "execution_count": 975,
   "metadata": {},
   "outputs": [],
   "source": [
    "from sklearn.neighbors import KNeighborsClassifier\n",
    "# Tool for computing k-NN classification"
   ]
  },
  {
   "cell_type": "code",
   "execution_count": 989,
   "metadata": {},
   "outputs": [],
   "source": [
    "def KNN(k):\n",
    "    neigh = KNeighborsClassifier(n_neighbors=k)\n",
    "    neigh.fit(train_df[['tot_minutes']], train_df['M/F'])\n",
    "    knn_pred  = neigh.predict(test_df[['tot_minutes']])\n",
    "    # Use test_data to make predictions and store the prediction results in knn_pred\n",
    "    \n",
    "    return knn_pred"
   ]
  },
  {
   "cell_type": "markdown",
   "metadata": {},
   "source": [
    "The function *KNN* is to generate the classifier of k-NN with k neighbors, and train the train_data to return the prediction results."
   ]
  },
  {
   "cell_type": "code",
   "execution_count": 996,
   "metadata": {},
   "outputs": [
    {
     "data": {
      "text/plain": [
       "0.6504677161761351"
      ]
     },
     "execution_count": 996,
     "metadata": {},
     "output_type": "execute_result"
    }
   ],
   "source": [
    "(KNN(100) == test_df['M/F']).sum()/len(test_df)"
   ]
  },
  {
   "cell_type": "markdown",
   "metadata": {},
   "source": [
    "The accuracy of using k-NN to predict gender is approximately 65%,"
   ]
  },
  {
   "cell_type": "code",
   "execution_count": 1018,
   "metadata": {},
   "outputs": [],
   "source": [
    "x = np.linspace(50,150,100)\n",
    "y = []\n",
    "for i in range(50,150):\n",
    "    y.append((KNN(i) == test_df['M/F']).sum()/len(test_df))\n",
    "y1 = [0.65389]*100\n",
    "y2 = [0.7602099]*100"
   ]
  },
  {
   "cell_type": "markdown",
   "metadata": {},
   "source": [
    "Record the accuracy of k-NN neighbors with 50-100 neighbors and compare with the accuracy in part1 and part2."
   ]
  },
  {
   "cell_type": "code",
   "execution_count": 1023,
   "metadata": {},
   "outputs": [
    {
     "data": {
      "image/png": "[encoded data removed]",
      "text/plain": [
       "<Figure size 432x288 with 1 Axes>"
      ]
     },
     "metadata": {
      "needs_background": "light"
     },
     "output_type": "display_data"
    }
   ],
   "source": [
    "plt.plot(x,y,'r--',x,y1,'g--',x,y2,'y--')\n",
    "plt.plot(x, y,'r--', label='k-NN')\n",
    "plt.plot(x, y1,'g--',label='1-dimensional KDE ')\n",
    "plt.plot(x, y2,'y--',label='2-dimensional KDE ')\n",
    "plt.legend()\n",
    "plt.show()"
   ]
  },
  {
   "cell_type": "markdown",
   "metadata": {},
   "source": [
    "The x-axis of this plot is the number of neighbors of k-NN, and the y-axis is the accuracy.\n",
    "\n",
    "When the number of neighbors is larger, the accuracy of k-NN is higher, which is close to the accuracy of 1-dimensional KDE. 2-dimensional KDE has the highest accuracy."
   ]
  },
  {
   "cell_type": "markdown",
   "metadata": {},
   "source": [
    "## Part 4"
   ]
  },
  {
   "cell_type": "markdown",
   "metadata": {},
   "source": [
    "The linear regression prediction method means that the relationship between the dependent variable and the independent variable is linear. A linear regression line has an equation of the form: $$Y=bx+a+e$$\n",
    "\n",
    "where X is the explanatory variable and Y is the dependent variable. The slope of the line is b, a is the intercept and e is the error of regression."
   ]
  },
  {
   "cell_type": "markdown",
   "metadata": {},
   "source": [
    "The purpose of this part is to use linear regression to predict runners' finish times based on their 5K times. And evaluate the accuracy of these predictions. Then use linear regression with 5K times to predict completion times using data other than 5K times."
   ]
  },
  {
   "cell_type": "code",
   "execution_count": 1048,
   "metadata": {},
   "outputs": [],
   "source": [
    "from sklearn.linear_model import LinearRegression\n",
    "# Import Linear Model.\n",
    "\n",
    "reg = LinearRegression()\n",
    "# Generate linear regression function."
   ]
  },
  {
   "cell_type": "code",
   "execution_count": 1049,
   "metadata": {},
   "outputs": [
    {
     "data": {
      "text/plain": [
       "LinearRegression()"
      ]
     },
     "execution_count": 1049,
     "metadata": {},
     "output_type": "execute_result"
    }
   ],
   "source": [
    "reg.fit(train_df[['5K_minutes']], train_df['tot_minutes'])\n",
    "# Use linear regression to predict runners' finish times based on their 5K times"
   ]
  },
  {
   "cell_type": "code",
   "execution_count": 1044,
   "metadata": {},
   "outputs": [],
   "source": [
    "from sklearn.model_selection import train_test_split\n",
    "train_df, test_df = train_test_split(df, test_size=0.5)"
   ]
  },
  {
   "cell_type": "code",
   "execution_count": 1045,
   "metadata": {},
   "outputs": [
    {
     "name": "stderr",
     "output_type": "stream",
     "text": [
      "<ipython-input-1045-28367a1f5eb5>:1: SettingWithCopyWarning:\n",
      "\n",
      "\n",
      "A value is trying to be set on a copy of a slice from a DataFrame.\n",
      "Try using .loc[row_indexer,col_indexer] = value instead\n",
      "\n",
      "See the caveats in the documentation: https://pandas.pydata.org/pandas-docs/stable/user_guide/indexing.html#returning-a-view-versus-a-copy\n",
      "\n"
     ]
    }
   ],
   "source": [
    "test_df['regression'] = reg.predict(test_df[['5K_minutes']])"
   ]
  },
  {
   "cell_type": "markdown",
   "metadata": {},
   "source": [
    "This is using test_data for testing and store the prediction results in *test_df['regression']*."
   ]
  },
  {
   "cell_type": "code",
   "execution_count": 1046,
   "metadata": {},
   "outputs": [
    {
     "name": "stderr",
     "output_type": "stream",
     "text": [
      "<ipython-input-1046-7dfc7c0f6ef5>:1: SettingWithCopyWarning:\n",
      "\n",
      "\n",
      "A value is trying to be set on a copy of a slice from a DataFrame.\n",
      "Try using .loc[row_indexer,col_indexer] = value instead\n",
      "\n",
      "See the caveats in the documentation: https://pandas.pydata.org/pandas-docs/stable/user_guide/indexing.html#returning-a-view-versus-a-copy\n",
      "\n"
     ]
    }
   ],
   "source": [
    "test_df['regression_error'] = test_df['regression'] - test_df['tot_minutes']"
   ]
  },
  {
   "cell_type": "markdown",
   "metadata": {},
   "source": [
    "Storing the error of regression in *test_df['regression_error']*"
   ]
  },
  {
   "cell_type": "code",
   "execution_count": 1062,
   "metadata": {},
   "outputs": [
    {
     "data": {
      "text/plain": [
       "0.8415811115184746"
      ]
     },
     "execution_count": 1062,
     "metadata": {},
     "output_type": "execute_result"
    }
   ],
   "source": [
    "reg.score(test_df[['5K_minutes']], test_df['tot_minutes'])\n",
    "# calculate accuracy score"
   ]
  },
  {
   "cell_type": "markdown",
   "metadata": {},
   "source": [
    "The accuracy of using k-NN to predict gender is approximately 65%,"
   ]
  },
  {
   "cell_type": "code",
   "execution_count": 1054,
   "metadata": {},
   "outputs": [
    {
     "data": {
      "text/plain": [
       "count    13149.000000\n",
       "mean        10.972957\n",
       "std         11.540483\n",
       "min          0.000783\n",
       "25%          3.759800\n",
       "50%          7.841444\n",
       "75%         13.741909\n",
       "max        148.993838\n",
       "Name: regression_error, dtype: float64"
      ]
     },
     "execution_count": 1054,
     "metadata": {},
     "output_type": "execute_result"
    }
   ],
   "source": [
    "np.abs(test_df['regression_error']).describe()"
   ]
  },
  {
   "cell_type": "markdown",
   "metadata": {},
   "source": [
    "A total of 13149 data were predicted, the average error of the data was about 10.89, the variance of the error was about 11.43, the minimum error was 0.000269, and the maximum error was 147.943177.\n",
    "\n",
    "25% means less than 25% regression error below 3.718883.\n",
    "\n",
    "50% means less than 50% regression error below 7.777086.\n",
    "\n",
    "75% means less than 75% regression error below 13.655317."
   ]
  },
  {
   "cell_type": "code",
   "execution_count": 1055,
   "metadata": {},
   "outputs": [
    {
     "data": {
      "text/plain": [
       "LinearRegression()"
      ]
     },
     "execution_count": 1055,
     "metadata": {},
     "output_type": "execute_result"
    }
   ],
   "source": [
    "reg2 = LinearRegression()\n",
    "reg2.fit(test_df[['5K_minutes', 'Age']], test_df['tot_minutes'])\n",
    "# Use linear regression to predict runners' finish times based on their 5K times and ages."
   ]
  },
  {
   "cell_type": "code",
   "execution_count": 1058,
   "metadata": {},
   "outputs": [
    {
     "name": "stderr",
     "output_type": "stream",
     "text": [
      "<ipython-input-1058-d5732b37ce70>:1: SettingWithCopyWarning:\n",
      "\n",
      "\n",
      "A value is trying to be set on a copy of a slice from a DataFrame.\n",
      "Try using .loc[row_indexer,col_indexer] = value instead\n",
      "\n",
      "See the caveats in the documentation: https://pandas.pydata.org/pandas-docs/stable/user_guide/indexing.html#returning-a-view-versus-a-copy\n",
      "\n"
     ]
    }
   ],
   "source": [
    "test_df['regression_2'] = reg2.predict(test_df[['5K_minutes', 'Age']])"
   ]
  },
  {
   "cell_type": "markdown",
   "metadata": {},
   "source": [
    "This is using test_data for testing and store the prediction results in test_df['regression_2']."
   ]
  },
  {
   "cell_type": "code",
   "execution_count": 1059,
   "metadata": {},
   "outputs": [
    {
     "name": "stderr",
     "output_type": "stream",
     "text": [
      "<ipython-input-1059-f0b81cc857a2>:1: SettingWithCopyWarning:\n",
      "\n",
      "\n",
      "A value is trying to be set on a copy of a slice from a DataFrame.\n",
      "Try using .loc[row_indexer,col_indexer] = value instead\n",
      "\n",
      "See the caveats in the documentation: https://pandas.pydata.org/pandas-docs/stable/user_guide/indexing.html#returning-a-view-versus-a-copy\n",
      "\n"
     ]
    }
   ],
   "source": [
    "test_df['regression_2_error'] = test_df['regression_2'] - test_df['tot_minutes']"
   ]
  },
  {
   "cell_type": "markdown",
   "metadata": {},
   "source": [
    "Storing the error of regression in test_df['regression_2 error']"
   ]
  },
  {
   "cell_type": "code",
   "execution_count": 1064,
   "metadata": {},
   "outputs": [
    {
     "data": {
      "text/plain": [
       "0.8432463275163371"
      ]
     },
     "execution_count": 1064,
     "metadata": {},
     "output_type": "execute_result"
    }
   ],
   "source": [
    "reg2.score(test_df[['5K_minutes', 'Age']], test_df['tot_minutes'])\n",
    "# calculate accuracy score"
   ]
  },
  {
   "cell_type": "code",
   "execution_count": 1060,
   "metadata": {},
   "outputs": [
    {
     "data": {
      "text/html": [
       "<div>\n",
       "<style scoped>\n",
       "    .dataframe tbody tr th:only-of-type {\n",
       "        vertical-align: middle;\n",
       "    }\n",
       "\n",
       "    .dataframe tbody tr th {\n",
       "        vertical-align: top;\n",
       "    }\n",
       "\n",
       "    .dataframe thead th {\n",
       "        text-align: right;\n",
       "    }\n",
       "</style>\n",
       "<table border=\"1\" class=\"dataframe\">\n",
       "  <thead>\n",
       "    <tr style=\"text-align: right;\">\n",
       "      <th></th>\n",
       "      <th>regression_error</th>\n",
       "      <th>regression_2_error</th>\n",
       "    </tr>\n",
       "  </thead>\n",
       "  <tbody>\n",
       "    <tr>\n",
       "      <th>count</th>\n",
       "      <td>13149.000000</td>\n",
       "      <td>13149.000000</td>\n",
       "    </tr>\n",
       "    <tr>\n",
       "      <th>mean</th>\n",
       "      <td>10.972957</td>\n",
       "      <td>10.914436</td>\n",
       "    </tr>\n",
       "    <tr>\n",
       "      <th>std</th>\n",
       "      <td>11.540483</td>\n",
       "      <td>11.482213</td>\n",
       "    </tr>\n",
       "    <tr>\n",
       "      <th>min</th>\n",
       "      <td>0.000783</td>\n",
       "      <td>0.002728</td>\n",
       "    </tr>\n",
       "    <tr>\n",
       "      <th>25%</th>\n",
       "      <td>3.759800</td>\n",
       "      <td>3.808305</td>\n",
       "    </tr>\n",
       "    <tr>\n",
       "      <th>50%</th>\n",
       "      <td>7.841444</td>\n",
       "      <td>7.801638</td>\n",
       "    </tr>\n",
       "    <tr>\n",
       "      <th>75%</th>\n",
       "      <td>13.741909</td>\n",
       "      <td>13.763582</td>\n",
       "    </tr>\n",
       "    <tr>\n",
       "      <th>max</th>\n",
       "      <td>148.993838</td>\n",
       "      <td>150.464273</td>\n",
       "    </tr>\n",
       "  </tbody>\n",
       "</table>\n",
       "</div>"
      ],
      "text/plain": [
       "       regression_error  regression_2_error\n",
       "count      13149.000000        13149.000000\n",
       "mean          10.972957           10.914436\n",
       "std           11.540483           11.482213\n",
       "min            0.000783            0.002728\n",
       "25%            3.759800            3.808305\n",
       "50%            7.841444            7.801638\n",
       "75%           13.741909           13.763582\n",
       "max          148.993838          150.464273"
      ]
     },
     "execution_count": 1060,
     "metadata": {},
     "output_type": "execute_result"
    }
   ],
   "source": [
    "np.abs(test_df[['regression_error', 'regression_2_error']]).describe()"
   ]
  },
  {
   "cell_type": "markdown",
   "metadata": {},
   "source": [
    "The two methods predict the same set of data. Compared with the first method, the second method has a slight reduction in the mean error and 75%, all other errors increase. \n",
    "\n",
    "The accuracy score of the first method is 0.8415811115184746.\n",
    "\n",
    "The accuracy score of the second method is 0.8432463275163371.\n",
    "They are not very different\n",
    "\n",
    "Thus, using linear regression based on 5K times and the runner's ages to predict finish time did not improve much the prediction."
   ]
  },
  {
   "cell_type": "markdown",
   "metadata": {},
   "source": [
    "## Part 5"
   ]
  },
  {
   "cell_type": "markdown",
   "metadata": {},
   "source": [
    "For this part I want to calculate a 1-demensional KDE for male and female runners using 30K times and use it with Bayes' theorem to calculate the probability that a runner at a given time is a male."
   ]
  },
  {
   "cell_type": "code",
   "execution_count": 1066,
   "metadata": {},
   "outputs": [],
   "source": [
    "df1 = pd.read_csv(\"marathon_results.csv\")\n",
    "df1['30K_minutes'] = pd.to_timedelta(df['30K']).dt.total_seconds()/60\n",
    "# Total 30K time in minutes and add them in dataframe."
   ]
  },
  {
   "cell_type": "code",
   "execution_count": 1068,
   "metadata": {},
   "outputs": [],
   "source": [
    "dfm30 = df1[df1[\"M/F\"] == 'M']\n",
    "dff30 = df1[df1[\"M/F\"] == 'F']\n",
    "# Get two DataFrames containing all rows containing \"Male\" and \"Female\" in column \"M/F\"."
   ]
  },
  {
   "cell_type": "code",
   "execution_count": 1070,
   "metadata": {},
   "outputs": [],
   "source": [
    "kdem30 = gaussian_kde(dfm30['30K_minutes'])\n",
    "kdef30 = gaussian_kde(dff30['30K_minutes'])\n",
    "# Generate two kernel density estimation functions from data for male and female."
   ]
  },
  {
   "cell_type": "code",
   "execution_count": 1082,
   "metadata": {},
   "outputs": [],
   "source": [
    "train_df30, test_df30 = train_test_split(df1, test_size=0.5)"
   ]
  },
  {
   "cell_type": "code",
   "execution_count": 1083,
   "metadata": {},
   "outputs": [],
   "source": [
    "dfm30 = train_df30[train_df30[\"M/F\"] == 'M']\n",
    "dff30 = train_df30[train_df30[\"M/F\"] == 'F']"
   ]
  },
  {
   "cell_type": "code",
   "execution_count": 1084,
   "metadata": {},
   "outputs": [],
   "source": [
    "kde30 = gaussian_kde(train_df30['30K_minutes'])\n",
    "kdem30 = gaussian_kde(dfm30['30K_minutes'])\n",
    "kdef30 = gaussian_kde(dff30['30K_minutes'])"
   ]
  },
  {
   "cell_type": "code",
   "execution_count": 1085,
   "metadata": {},
   "outputs": [],
   "source": [
    "def Bayes30(time):\n",
    "    numm = len(dfm30)\n",
    "    numf = len(dff30)\n",
    "    P_time = kdem30(time) + kdef30(time)\n",
    "    Pf = (kdef30(time)) / P_time\n",
    "    return Pf"
   ]
  },
  {
   "cell_type": "markdown",
   "metadata": {},
   "source": [
    "The function *Bayes30* is to use KDE and Bayes theorem to calculate the probability that the runner at a given 30K time is female."
   ]
  },
  {
   "cell_type": "code",
   "execution_count": 1086,
   "metadata": {},
   "outputs": [],
   "source": [
    "probability_list30=[]\n",
    "for i in range(len(test_df30)):\n",
    "    probability_list30.append(Bayes30(test_df30[\"30K_minutes\"].iloc[i]))"
   ]
  },
  {
   "cell_type": "markdown",
   "metadata": {},
   "source": [
    "This is using *test_data30* for testing and *probability_list30* contains the probabilities of all predictions in the test data."
   ]
  },
  {
   "cell_type": "code",
   "execution_count": 1087,
   "metadata": {},
   "outputs": [],
   "source": [
    "predict_list30 = []\n",
    "for i in range(len(test_df30)):\n",
    "    if probability_list30[i] > 0.5:\n",
    "        predict_list30.append(\"F\")\n",
    "    else:\n",
    "        predict_list30.append(\"M\")"
   ]
  },
  {
   "cell_type": "markdown",
   "metadata": {},
   "source": [
    "Predict whether a runner is male/female based on predicted probabilities and *predict_list30* contains all predicted results"
   ]
  },
  {
   "cell_type": "code",
   "execution_count": 1088,
   "metadata": {},
   "outputs": [
    {
     "data": {
      "text/plain": [
       "0.6660582553806373"
      ]
     },
     "execution_count": 1088,
     "metadata": {},
     "output_type": "execute_result"
    }
   ],
   "source": [
    "(predict_list30 == test_df30['M/F']).sum()/len(test_df30)"
   ]
  },
  {
   "cell_type": "markdown",
   "metadata": {},
   "source": [
    "The accuracy of using 1-dimensional KDE based on 30K time and Bayes theorem to predict gender is approximately 66.6%, which is more accurate than using 1-dimensional KDE based on finish time."
   ]
  },
  {
   "cell_type": "markdown",
   "metadata": {},
   "source": [
    "# Conclusion"
   ]
  },
  {
   "cell_type": "markdown",
   "metadata": {},
   "source": [
    "From the report I can conclude that the method using 2-dimentional KDE and Bayes theorem has the highest accuracy in predicting gender, and the method using k-NN has the lowest accuracy in predicting gender. Using linear regression to predict runners' finish times based on their 5K time and age does not improve linear regression predictions very well."
   ]
  },
  {
   "cell_type": "code",
   "execution_count": null,
   "metadata": {},
   "outputs": [],
   "source": []
  }
 ],
 "metadata": {
  "kernelspec": {
   "display_name": "Python 3",
   "language": "python",
   "name": "python3"
  },
  "language_info": {
   "codemirror_mode": {
    "name": "ipython",
    "version": 3
   },
   "file_extension": ".py",
   "mimetype": "text/x-python",
   "name": "python",
   "nbconvert_exporter": "python",
   "pygments_lexer": "ipython3",
   "version": "3.8.3"
  }
 },
 "nbformat": 4,
 "nbformat_minor": 4
}
